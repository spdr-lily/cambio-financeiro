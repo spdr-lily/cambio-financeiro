{
 "cells": [
  {
   "cell_type": "markdown",
   "id": "7b65da66-ad6a-4513-b5a6-6a7744dd26e9",
   "metadata": {},
   "source": [
    "# Projeto de Câmbio Financeiro"
   ]
  },
  {
   "cell_type": "code",
   "execution_count": 11,
   "id": "b09e116c-4a16-485c-9266-ca861c74e2b2",
   "metadata": {},
   "outputs": [],
   "source": [
    "# importando bibliotecas\n",
    "import pandas as pd"
   ]
  },
  {
   "cell_type": "code",
   "execution_count": 13,
   "id": "fa77b1c1-8545-4af3-a25f-f6334b893cc7",
   "metadata": {},
   "outputs": [],
   "source": [
    "# criando conjunto de dados\n",
    "\n",
    "dados_cambio = {'Produto':['Produto A','Produto B','Produto C'],\n",
    "                'Preco USD': [100,150,200],\n",
    "                'Preco EUR':[85,125,170],\n",
    "                'Preco JPY':[10000,15000,20000]\n",
    "               }"
   ]
  },
  {
   "cell_type": "code",
   "execution_count": 15,
   "id": "6b0baf4f-bb7c-40d4-8361-b95d65775ffd",
   "metadata": {},
   "outputs": [
    {
     "data": {
      "text/plain": [
       "{'Produto': ['Produto A', 'Produto B', 'Produto C'],\n",
       " 'Preco USD': [100, 150, 200],\n",
       " 'Preco EUR': [85, 125, 170],\n",
       " 'Preco JPY': [10000, 15000, 20000]}"
      ]
     },
     "execution_count": 15,
     "metadata": {},
     "output_type": "execute_result"
    }
   ],
   "source": [
    "dados_cambio"
   ]
  },
  {
   "cell_type": "code",
   "execution_count": 17,
   "id": "ef68b546-3ea9-4d53-adac-19447f8eaed7",
   "metadata": {},
   "outputs": [],
   "source": [
    "# criar função para converter o câmbio\n",
    "\n",
    "def conversao_para_usd(preco,taxa):\n",
    "    return preco / taxa"
   ]
  },
  {
   "cell_type": "code",
   "execution_count": 19,
   "id": "54a3b9c7-e066-417f-85e5-287a40f55ddc",
   "metadata": {},
   "outputs": [],
   "source": [
    "taxa = {'USD':1, 'EUR':1.2,'JPY':0.009}"
   ]
  },
  {
   "cell_type": "code",
   "execution_count": 23,
   "id": "afa9210d-ab91-4cf0-aa75-5bac45338088",
   "metadata": {},
   "outputs": [
    {
     "data": {
      "text/plain": [
       "{'USD': 1, 'EUR': 1.2, 'JPY': 0.009}"
      ]
     },
     "execution_count": 23,
     "metadata": {},
     "output_type": "execute_result"
    }
   ],
   "source": [
    "taxa"
   ]
  },
  {
   "cell_type": "code",
   "execution_count": 25,
   "id": "639cceae-1f4a-4603-b407-a032c677cb54",
   "metadata": {},
   "outputs": [],
   "source": [
    "df_cambio = pd.DataFrame(dados_cambio)"
   ]
  },
  {
   "cell_type": "code",
   "execution_count": 27,
   "id": "57a6b5fe-e7b1-4e86-ba1b-69fd003cddf7",
   "metadata": {},
   "outputs": [
    {
     "data": {
      "text/html": [
       "<div>\n",
       "<style scoped>\n",
       "    .dataframe tbody tr th:only-of-type {\n",
       "        vertical-align: middle;\n",
       "    }\n",
       "\n",
       "    .dataframe tbody tr th {\n",
       "        vertical-align: top;\n",
       "    }\n",
       "\n",
       "    .dataframe thead th {\n",
       "        text-align: right;\n",
       "    }\n",
       "</style>\n",
       "<table border=\"1\" class=\"dataframe\">\n",
       "  <thead>\n",
       "    <tr style=\"text-align: right;\">\n",
       "      <th></th>\n",
       "      <th>Produto</th>\n",
       "      <th>Preco USD</th>\n",
       "      <th>Preco EUR</th>\n",
       "      <th>Preco JPY</th>\n",
       "    </tr>\n",
       "  </thead>\n",
       "  <tbody>\n",
       "    <tr>\n",
       "      <th>0</th>\n",
       "      <td>Produto A</td>\n",
       "      <td>100</td>\n",
       "      <td>85</td>\n",
       "      <td>10000</td>\n",
       "    </tr>\n",
       "    <tr>\n",
       "      <th>1</th>\n",
       "      <td>Produto B</td>\n",
       "      <td>150</td>\n",
       "      <td>125</td>\n",
       "      <td>15000</td>\n",
       "    </tr>\n",
       "    <tr>\n",
       "      <th>2</th>\n",
       "      <td>Produto C</td>\n",
       "      <td>200</td>\n",
       "      <td>170</td>\n",
       "      <td>20000</td>\n",
       "    </tr>\n",
       "  </tbody>\n",
       "</table>\n",
       "</div>"
      ],
      "text/plain": [
       "     Produto  Preco USD  Preco EUR  Preco JPY\n",
       "0  Produto A        100         85      10000\n",
       "1  Produto B        150        125      15000\n",
       "2  Produto C        200        170      20000"
      ]
     },
     "execution_count": 27,
     "metadata": {},
     "output_type": "execute_result"
    }
   ],
   "source": [
    "df_cambio"
   ]
  },
  {
   "cell_type": "markdown",
   "id": "be5cac08-e95c-4f15-86dc-2eb88bed9669",
   "metadata": {},
   "source": [
    "# funções lambda"
   ]
  },
  {
   "cell_type": "code",
   "execution_count": 31,
   "id": "0bd7b209-14bd-469a-a312-4edd80d7f0d5",
   "metadata": {},
   "outputs": [],
   "source": [
    "# adicionar uma nova coluna com preço em Libras"
   ]
  },
  {
   "cell_type": "code",
   "execution_count": 33,
   "id": "8c879b70-d082-45d3-99c8-5db38cce88f8",
   "metadata": {},
   "outputs": [
    {
     "data": {
      "text/html": [
       "<div>\n",
       "<style scoped>\n",
       "    .dataframe tbody tr th:only-of-type {\n",
       "        vertical-align: middle;\n",
       "    }\n",
       "\n",
       "    .dataframe tbody tr th {\n",
       "        vertical-align: top;\n",
       "    }\n",
       "\n",
       "    .dataframe thead th {\n",
       "        text-align: right;\n",
       "    }\n",
       "</style>\n",
       "<table border=\"1\" class=\"dataframe\">\n",
       "  <thead>\n",
       "    <tr style=\"text-align: right;\">\n",
       "      <th></th>\n",
       "      <th>Produto</th>\n",
       "      <th>Preco USD</th>\n",
       "      <th>Preco EUR</th>\n",
       "      <th>Preco JPY</th>\n",
       "    </tr>\n",
       "  </thead>\n",
       "  <tbody>\n",
       "    <tr>\n",
       "      <th>0</th>\n",
       "      <td>Produto A</td>\n",
       "      <td>100</td>\n",
       "      <td>85</td>\n",
       "      <td>10000</td>\n",
       "    </tr>\n",
       "    <tr>\n",
       "      <th>1</th>\n",
       "      <td>Produto B</td>\n",
       "      <td>150</td>\n",
       "      <td>125</td>\n",
       "      <td>15000</td>\n",
       "    </tr>\n",
       "    <tr>\n",
       "      <th>2</th>\n",
       "      <td>Produto C</td>\n",
       "      <td>200</td>\n",
       "      <td>170</td>\n",
       "      <td>20000</td>\n",
       "    </tr>\n",
       "  </tbody>\n",
       "</table>\n",
       "</div>"
      ],
      "text/plain": [
       "     Produto  Preco USD  Preco EUR  Preco JPY\n",
       "0  Produto A        100         85      10000\n",
       "1  Produto B        150        125      15000\n",
       "2  Produto C        200        170      20000"
      ]
     },
     "execution_count": 33,
     "metadata": {},
     "output_type": "execute_result"
    }
   ],
   "source": [
    "df_cambio"
   ]
  },
  {
   "cell_type": "code",
   "execution_count": 49,
   "id": "6f232116-46b1-440e-ac13-f1f0383e1b80",
   "metadata": {},
   "outputs": [],
   "source": [
    "# criando uma coluna com preço em libras esterlinas usando o preço em dólar como base.\n",
    "df_cambio['Preco GBP'] = df_cambio['Preco USD'].apply(lambda x:x * 1.4)"
   ]
  },
  {
   "cell_type": "code",
   "execution_count": 51,
   "id": "30329a89-8ed1-480a-b142-e4d4f3493338",
   "metadata": {},
   "outputs": [
    {
     "data": {
      "text/html": [
       "<div>\n",
       "<style scoped>\n",
       "    .dataframe tbody tr th:only-of-type {\n",
       "        vertical-align: middle;\n",
       "    }\n",
       "\n",
       "    .dataframe tbody tr th {\n",
       "        vertical-align: top;\n",
       "    }\n",
       "\n",
       "    .dataframe thead th {\n",
       "        text-align: right;\n",
       "    }\n",
       "</style>\n",
       "<table border=\"1\" class=\"dataframe\">\n",
       "  <thead>\n",
       "    <tr style=\"text-align: right;\">\n",
       "      <th></th>\n",
       "      <th>Produto</th>\n",
       "      <th>Preco USD</th>\n",
       "      <th>Preco EUR</th>\n",
       "      <th>Preco JPY</th>\n",
       "      <th>Preco GBP</th>\n",
       "    </tr>\n",
       "  </thead>\n",
       "  <tbody>\n",
       "    <tr>\n",
       "      <th>0</th>\n",
       "      <td>Produto A</td>\n",
       "      <td>100</td>\n",
       "      <td>85</td>\n",
       "      <td>10000</td>\n",
       "      <td>140.0</td>\n",
       "    </tr>\n",
       "    <tr>\n",
       "      <th>1</th>\n",
       "      <td>Produto B</td>\n",
       "      <td>150</td>\n",
       "      <td>125</td>\n",
       "      <td>15000</td>\n",
       "      <td>210.0</td>\n",
       "    </tr>\n",
       "    <tr>\n",
       "      <th>2</th>\n",
       "      <td>Produto C</td>\n",
       "      <td>200</td>\n",
       "      <td>170</td>\n",
       "      <td>20000</td>\n",
       "      <td>280.0</td>\n",
       "    </tr>\n",
       "  </tbody>\n",
       "</table>\n",
       "</div>"
      ],
      "text/plain": [
       "     Produto  Preco USD  Preco EUR  Preco JPY  Preco GBP\n",
       "0  Produto A        100         85      10000      140.0\n",
       "1  Produto B        150        125      15000      210.0\n",
       "2  Produto C        200        170      20000      280.0"
      ]
     },
     "execution_count": 51,
     "metadata": {},
     "output_type": "execute_result"
    }
   ],
   "source": [
    "df_cambio"
   ]
  },
  {
   "cell_type": "code",
   "execution_count": null,
   "id": "fcc6b374-6ed7-4777-8ee6-a4e5ca2f41ce",
   "metadata": {},
   "outputs": [],
   "source": []
  }
 ],
 "metadata": {
  "kernelspec": {
   "display_name": "Python 3 (ipykernel)",
   "language": "python",
   "name": "python3"
  },
  "language_info": {
   "codemirror_mode": {
    "name": "ipython",
    "version": 3
   },
   "file_extension": ".py",
   "mimetype": "text/x-python",
   "name": "python",
   "nbconvert_exporter": "python",
   "pygments_lexer": "ipython3",
   "version": "3.12.4"
  }
 },
 "nbformat": 4,
 "nbformat_minor": 5
}
